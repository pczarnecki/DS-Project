{
 "cells": [
  {
   "cell_type": "code",
   "execution_count": 27,
   "id": "b6b1fd6a",
   "metadata": {},
   "outputs": [],
   "source": [
    "import xarray as xr\n",
    "import numpy as np\n",
    "import matplotlib.pyplot as plt\n",
    "import scipy.constants as sp\n",
    "from sklearn.decomposition import PCA\n",
    "from sklearn.linear_model import LinearRegression\n"
   ]
  },
  {
   "cell_type": "code",
   "execution_count": 2,
   "id": "7137cd49",
   "metadata": {},
   "outputs": [],
   "source": [
    "def data_setup(level_array, level_type, ref_input, spec_input, heating_data = None):\n",
    "    # open summed up reference data\n",
    "    ref_data = xr.open_dataset(ref_input,\n",
    "                         engine = \"netcdf4\")\n",
    "\n",
    "    # Spectral flux data - fluxes per wavenumber\n",
    "    spec_fluxes = xr.open_mfdataset(spec_input, \n",
    "                                    combine = 'nested', concat_dim = 'column',\n",
    "                                   engine = \"netcdf4\")\n",
    "    if (any(level_type == 'h')):\n",
    "        # monochromatic heating\n",
    "        heating = heating_data\n",
    "        heating = heating.transpose(\"column\", \"half_level\", \"wavenumber\")\n",
    "\n",
    "        # heating = xr.open_dataset(\"/dx02/pc2943/mono_heating.h5\", engine = \"netcdf4\")\n",
    "        # heating = heating.rename({'mul-586aef02731ae840e3f7c86cffab3ac2':'mono_heating'})\n",
    "\n",
    "    # set up coordinates/arrays\n",
    "    wavenumber_coords = spec_fluxes.wavenumber.data\n",
    "\n",
    "    num_cols = min(len(ref_data.column.data), len(spec_fluxes.column.data))\n",
    "    \n",
    "    ref = np.empty((len(level_array), num_cols))\n",
    "    flux_subset = np.empty((len(level_array), num_cols, len(spec_fluxes.wavenumber.data)))\n",
    "\n",
    "    for i in range(len(level_array)):\n",
    "        if (level_type[i] == 'f'):\n",
    "            if (level_array[i] == 0):\n",
    "                # TOA outgoing fluxes\n",
    "                TOA_up_spec = spec_fluxes.spectral_flux_up_lw.isel(half_level = 0).data\n",
    "                TOA_up_ref = TOA_up_spec.sum(axis = 1)\n",
    "                ref[i] = TOA_up_ref.compute()\n",
    "\n",
    "                TOA_up_spec = TOA_up_spec.compute() \n",
    "                TOA_up_spec = np.array(TOA_up_spec)\n",
    "                flux_subset[i] = TOA_up_spec\n",
    "\n",
    "            elif (level_array[i] == 54):\n",
    "                # ground downward fluxes\n",
    "                BOA_dn_spec = spec_fluxes.spectral_flux_dn_lw.isel(half_level = 54).data\n",
    "                BOA_dn_ref = BOA_dn_spec.sum(axis = 1)\n",
    "                ref[i] = BOA_dn_ref.compute()\n",
    "\n",
    "                BOA_dn_spec = BOA_dn_spec.compute()\n",
    "                BOA_dn_spec = np.array(BOA_dn_spec)\n",
    "                flux_subset[i] = BOA_dn_spec\n",
    "\n",
    "            else:\n",
    "                # net flux in interior levels\n",
    "                lev_spec = (spec_fluxes.spectral_flux_dn_lw.isel(half_level = level_array[i]).data - \n",
    "                            spec_fluxes.spectral_flux_up_lw.isel(half_level = level_array[i]).data)\n",
    "                flux_subset[i] = lev_spec\n",
    "                ref[i] = lev_spec.sum(axis = 1)\n",
    "\n",
    "        elif (level_type[i] == 'h'):\n",
    "            # interior heating rates\n",
    "            lev_spec = heating.mono_heating.isel(half_level = level_array[i]).data\n",
    "            flux_subset[i] = lev_spec\n",
    "            ref[i] = lev_spec.sum(axis = 1)\n",
    "\n",
    "        else:\n",
    "            print(\"level identifier must be either f(lux) or h(eating rate)\")\n",
    "\n",
    "    # assemble data into xarrays\n",
    "    ref = xr.DataArray(data = ref, dims = [\"half_level\", \"column\"], \n",
    "                      coords = dict(half_level=([\"half_level\"], level_array)))\n",
    "\n",
    "    flux_subset = xr.DataArray(data = flux_subset, dims = [\"half_level\", \"column\", \"wavenumber\"],\n",
    "                              coords = dict(half_level=([\"half_level\"], level_array), \n",
    "                                            wavenumber=([\"wavenumber\"], wavenumber_coords)))\n",
    "\n",
    "    return flux_subset, ref\n"
   ]
  },
  {
   "cell_type": "code",
   "execution_count": 3,
   "id": "0f3014db",
   "metadata": {},
   "outputs": [],
   "source": [
    "def demean_and_normalize(train, test):\n",
    "    # expects spectral dataset\n",
    "    mean = train.mean(dim = 'column')\n",
    "    std = train.std(dim = 'column')\n",
    "    new_train = (train - mean)/(std**2)\n",
    "    new_test = (test - mean)/(std**2)\n",
    "    return new_train, new_test"
   ]
  },
  {
   "cell_type": "code",
   "execution_count": 31,
   "id": "157e8062",
   "metadata": {},
   "outputs": [],
   "source": [
    "def abs_rms(estimate, reference):\n",
    "    # absolute root mean squared error across all ensembles\n",
    "    # Buehler 2010 eqn 3\n",
    "    return np.sqrt(((estimate - reference.data)**2).mean(axis = 1))\n"
   ]
  },
  {
   "cell_type": "code",
   "execution_count": 4,
   "id": "39a598f8",
   "metadata": {},
   "outputs": [],
   "source": [
    "# load dataset\n",
    "ref_input = \"/data/robertp/CKDMIP_LBL/evaluation1/lw_fluxes/ckdmip_evaluation1_lw_fluxes_present.h5\"\n",
    "spec_input = [\"/data/pc2943/spectral_fluxes_1-10.h5\", \"/data/pc2943/spectral_fluxes_11-20.h5\",\n",
    "                                \"/data/pc2943/spectral_fluxes_21-30.h5\", \"/data/pc2943/spectral_fluxes_31-40.h5\",\n",
    "                                \"/data/pc2943/spectral_fluxes_41-50.h5\"]\n",
    "specTest_input = [\"/data/pc2943/eval2_spectral_fluxes_1-10.h5\", \"/data/pc2943/eval2_spectral_fluxes_11-20.h5\",\n",
    "                                \"/data/pc2943/eval2_spectral_fluxes_21-30.h5\", \"/data/pc2943/eval2_spectral_fluxes_31-40.h5\",\n",
    "                                \"/data/pc2943/eval2_spectral_fluxes_41-50.h5\"]\n",
    "refTest_input = \"/data/robertp/CKDMIP_LBL/evaluation2/lw_fluxes/ckdmip_evaluation2_lw_fluxes-4angle_present.h5\"\n",
    "\n",
    "level_array = np.array([0])\n",
    "level_type = np.array(['f'])\n",
    "spec_train, ref_train = data_setup(level_array, level_type, ref_input, spec_input, None)\n",
    "spec_test, ref_test = data_setup(level_array, level_type, refTest_input, specTest_input, None)\n"
   ]
  },
  {
   "cell_type": "code",
   "execution_count": 5,
   "id": "85b4b48e",
   "metadata": {},
   "outputs": [],
   "source": [
    "# demean and normalize data for PCA\n",
    "spec_train, spec_test = demean_and_normalize(spec_train, spec_test)"
   ]
  },
  {
   "cell_type": "code",
   "execution_count": 24,
   "id": "be4be044",
   "metadata": {},
   "outputs": [
    {
     "ename": "MemoryError",
     "evalue": "Unable to allocate 378. TiB for an array with shape (7211999, 7211999) and data type float64",
     "output_type": "error",
     "traceback": [
      "\u001b[0;31m---------------------------------------------------------------------------\u001b[0m",
      "\u001b[0;31mMemoryError\u001b[0m                               Traceback (most recent call last)",
      "\u001b[0;32m<ipython-input-24-498afbafa1c4>\u001b[0m in \u001b[0;36m<module>\u001b[0;34m\u001b[0m\n\u001b[1;32m      1\u001b[0m \u001b[0;31m# SVD\u001b[0m\u001b[0;34m\u001b[0m\u001b[0;34m\u001b[0m\u001b[0;34m\u001b[0m\u001b[0m\n\u001b[0;32m----> 2\u001b[0;31m \u001b[0mP\u001b[0m\u001b[0;34m,\u001b[0m \u001b[0msigma\u001b[0m\u001b[0;34m,\u001b[0m \u001b[0mS\u001b[0m \u001b[0;34m=\u001b[0m \u001b[0mnp\u001b[0m\u001b[0;34m.\u001b[0m\u001b[0mlinalg\u001b[0m\u001b[0;34m.\u001b[0m\u001b[0msvd\u001b[0m\u001b[0;34m(\u001b[0m\u001b[0mspec_train\u001b[0m\u001b[0;34m[\u001b[0m\u001b[0;36m0\u001b[0m\u001b[0;34m]\u001b[0m\u001b[0;34m.\u001b[0m\u001b[0mT\u001b[0m\u001b[0;34m)\u001b[0m\u001b[0;34m\u001b[0m\u001b[0;34m\u001b[0m\u001b[0m\n\u001b[0m",
      "\u001b[0;32m<__array_function__ internals>\u001b[0m in \u001b[0;36msvd\u001b[0;34m(*args, **kwargs)\u001b[0m\n",
      "\u001b[0;32m~/.conda/envs/pangeoxtdai36/lib/python3.6/site-packages/numpy/linalg/linalg.py\u001b[0m in \u001b[0;36msvd\u001b[0;34m(a, full_matrices, compute_uv, hermitian)\u001b[0m\n\u001b[1;32m   1659\u001b[0m \u001b[0;34m\u001b[0m\u001b[0m\n\u001b[1;32m   1660\u001b[0m         \u001b[0msignature\u001b[0m \u001b[0;34m=\u001b[0m \u001b[0;34m'D->DdD'\u001b[0m \u001b[0;32mif\u001b[0m \u001b[0misComplexType\u001b[0m\u001b[0;34m(\u001b[0m\u001b[0mt\u001b[0m\u001b[0;34m)\u001b[0m \u001b[0;32melse\u001b[0m \u001b[0;34m'd->ddd'\u001b[0m\u001b[0;34m\u001b[0m\u001b[0;34m\u001b[0m\u001b[0m\n\u001b[0;32m-> 1661\u001b[0;31m         \u001b[0mu\u001b[0m\u001b[0;34m,\u001b[0m \u001b[0ms\u001b[0m\u001b[0;34m,\u001b[0m \u001b[0mvh\u001b[0m \u001b[0;34m=\u001b[0m \u001b[0mgufunc\u001b[0m\u001b[0;34m(\u001b[0m\u001b[0ma\u001b[0m\u001b[0;34m,\u001b[0m \u001b[0msignature\u001b[0m\u001b[0;34m=\u001b[0m\u001b[0msignature\u001b[0m\u001b[0;34m,\u001b[0m \u001b[0mextobj\u001b[0m\u001b[0;34m=\u001b[0m\u001b[0mextobj\u001b[0m\u001b[0;34m)\u001b[0m\u001b[0;34m\u001b[0m\u001b[0;34m\u001b[0m\u001b[0m\n\u001b[0m\u001b[1;32m   1662\u001b[0m         \u001b[0mu\u001b[0m \u001b[0;34m=\u001b[0m \u001b[0mu\u001b[0m\u001b[0;34m.\u001b[0m\u001b[0mastype\u001b[0m\u001b[0;34m(\u001b[0m\u001b[0mresult_t\u001b[0m\u001b[0;34m,\u001b[0m \u001b[0mcopy\u001b[0m\u001b[0;34m=\u001b[0m\u001b[0;32mFalse\u001b[0m\u001b[0;34m)\u001b[0m\u001b[0;34m\u001b[0m\u001b[0;34m\u001b[0m\u001b[0m\n\u001b[1;32m   1663\u001b[0m         \u001b[0ms\u001b[0m \u001b[0;34m=\u001b[0m \u001b[0ms\u001b[0m\u001b[0;34m.\u001b[0m\u001b[0mastype\u001b[0m\u001b[0;34m(\u001b[0m\u001b[0m_realType\u001b[0m\u001b[0;34m(\u001b[0m\u001b[0mresult_t\u001b[0m\u001b[0;34m)\u001b[0m\u001b[0;34m,\u001b[0m \u001b[0mcopy\u001b[0m\u001b[0;34m=\u001b[0m\u001b[0;32mFalse\u001b[0m\u001b[0;34m)\u001b[0m\u001b[0;34m\u001b[0m\u001b[0;34m\u001b[0m\u001b[0m\n",
      "\u001b[0;31mMemoryError\u001b[0m: Unable to allocate 378. TiB for an array with shape (7211999, 7211999) and data type float64"
     ]
    }
   ],
   "source": [
    "# SVD\n",
    "# P, sigma, S = np.linalg.svd(spec_train[0].T)"
   ]
  },
  {
   "cell_type": "markdown",
   "id": "5e83888f",
   "metadata": {},
   "source": [
    "Matrix is too large to compute SVD. First solution option: uniformly sample the dataset to reduce the space to about 100,000 predictors (seems like the largest set the computer will handle). "
   ]
  },
  {
   "cell_type": "code",
   "execution_count": 28,
   "id": "73c367b6",
   "metadata": {},
   "outputs": [],
   "source": [
    "reduced_spec_train = spec_train[0, :, ::80]\n",
    "reduced_spec_test = spec_test[0, :, ::80]"
   ]
  },
  {
   "cell_type": "code",
   "execution_count": 7,
   "id": "4b232a7a",
   "metadata": {
    "scrolled": true
   },
   "outputs": [
    {
     "data": {
      "text/plain": [
       "(90150, 50)"
      ]
     },
     "execution_count": 7,
     "metadata": {},
     "output_type": "execute_result"
    }
   ],
   "source": [
    "np.shape(reduced_spec_train.T)"
   ]
  },
  {
   "cell_type": "code",
   "execution_count": 8,
   "id": "dd25887a",
   "metadata": {},
   "outputs": [],
   "source": [
    "# SVD\n",
    "P, sigma, S = np.linalg.svd(reduced_spec_train.data.T)"
   ]
  },
  {
   "cell_type": "code",
   "execution_count": 9,
   "id": "806ea492",
   "metadata": {},
   "outputs": [
    {
     "data": {
      "image/png": "[encoded data removed]",
      "text/plain": [
       "<Figure size 1152x432 with 2 Axes>"
      ]
     },
     "metadata": {
      "needs_background": "light"
     },
     "output_type": "display_data"
    }
   ],
   "source": [
    "fig = plt.figure(figsize=(16,6))\n",
    "axes = fig.add_subplot(1, 2, 1)\n",
    "axes.semilogy(sigma,'bo')\n",
    "axes.grid()\n",
    "axes.set_xlabel('columns')\n",
    "\n",
    "axes.set_title('Singular Values', fontsize=18)\n",
    "\n",
    "#and cumulative percent of variance\n",
    "axes = fig.add_subplot(1, 2, 2)\n",
    "g = np.cumsum(sigma*sigma)/np.sum(sigma*sigma)\n",
    "axes.plot(g,'bx-')\n",
    "\n",
    "axes.set_title('% cumulative percent variance explained', fontsize=18)\n",
    "axes.set_xlabel('columns')\n",
    "axes.grid()\n",
    "\n",
    "plt.show()"
   ]
  },
  {
   "cell_type": "code",
   "execution_count": 33,
   "id": "8d25c200",
   "metadata": {},
   "outputs": [],
   "source": [
    "### Principal Component Regression\n",
    "pca = PCA()\n",
    "predictor_var = pca.fit_transform(reduced_spec_train.data)\n",
    "test_var = pca.fit_transform(reduced_spec_test.data)"
   ]
  },
  {
   "cell_type": "code",
   "execution_count": 91,
   "id": "1f4fd167",
   "metadata": {},
   "outputs": [],
   "source": [
    "val_array = np.arange(1, 50)\n",
    "test_MSE = np.empty(len(val_array))\n",
    "train_MSE = np.empty(len(val_array))\n",
    "for i in range(len(val_array)):\n",
    "    X = predictor_var[:, :val_array[i]]\n",
    "    X_test = test_var[:, :val_array[i]]\n",
    "    regression = LinearRegression()\n",
    "    regression.fit(X, ref_train.data[0])\n",
    "    y_train = regression.predict(X)\n",
    "    y_test = regression.predict(X_test)\n",
    "    train_MSE[i] = abs_rms(y_train, ref_train.data)\n",
    "    test_MSE[i] = abs_rms(y_test, ref_test)"
   ]
  },
  {
   "cell_type": "code",
   "execution_count": 93,
   "id": "4f06910f",
   "metadata": {},
   "outputs": [
    {
     "data": {
      "image/png": "[encoded data removed]",
      "text/plain": [
       "<Figure size 432x288 with 1 Axes>"
      ]
     },
     "metadata": {
      "needs_background": "light"
     },
     "output_type": "display_data"
    }
   ],
   "source": [
    "plt.semilogy(val_array, train_MSE)\n",
    "plt.semilogy(val_array, test_MSE)\n",
    "plt.ylabel(\"absolute RMSE\")\n",
    "plt.xlabel(\"number of principal components\")\n",
    "plt.legend([\"train\", \"test\"])\n",
    "plt.show()"
   ]
  },
  {
   "cell_type": "code",
   "execution_count": null,
   "id": "5ad0e577",
   "metadata": {},
   "outputs": [],
   "source": []
  }
 ],
 "metadata": {
  "kernelspec": {
   "display_name": "Python 3",
   "language": "python",
   "name": "python3"
  },
  "language_info": {
   "codemirror_mode": {
    "name": "ipython",
    "version": 3
   },
   "file_extension": ".py",
   "mimetype": "text/x-python",
   "name": "python",
   "nbconvert_exporter": "python",
   "pygments_lexer": "ipython3",
   "version": "3.6.10"
  }
 },
 "nbformat": 4,
 "nbformat_minor": 5
}
